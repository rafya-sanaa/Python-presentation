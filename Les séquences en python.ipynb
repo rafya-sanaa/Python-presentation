{
 "cells": [
  {
   "cell_type": "code",
   "execution_count": 1,
   "metadata": {},
   "outputs": [
    {
     "name": "stdout",
     "output_type": "stream",
     "text": [
      "10\n",
      "8\n",
      "6\n",
      "4\n",
      "2\n"
     ]
    }
   ],
   "source": [
    "for element in range(10,0,-2):\n",
    "    print(element)"
   ]
  },
  {
   "cell_type": "code",
   "execution_count": 14,
   "metadata": {},
   "outputs": [],
   "source": [
    "liste_1=[1,2,4,8,12]\n",
    "Noms=['Rafya','Balhous','ElBaggari']\n",
    "liste_2=[liste_1,Noms]\n",
    "liste_3=[]"
   ]
  },
  {
   "cell_type": "code",
   "execution_count": 17,
   "metadata": {},
   "outputs": [
    {
     "name": "stdout",
     "output_type": "stream",
     "text": [
      "Rafya\n",
      "Balhous\n",
      "ElBaggari\n",
      "Balhous\n"
     ]
    }
   ],
   "source": [
    "#============================================\n",
    "#Indexing des séquences\n",
    "#============================================\n",
    "\n",
    "\n",
    "#Listes\n",
    "print(Noms[0]) #premier element=index 0\n",
    "print(Noms[1]) #deuxieme element=index 1\n",
    "print(Noms[-1]) #dernier element= index -1\n",
    "print(Noms[-2]) #avant dernier"
   ]
  },
  {
   "cell_type": "code",
   "execution_count": 24,
   "metadata": {},
   "outputs": [
    {
     "name": "stdout",
     "output_type": "stream",
     "text": [
      "['Rafya', 'Balhous', 'Ait My Hachem', 'Ouahbi', 'Horami']\n"
     ]
    }
   ],
   "source": [
    "#============================================\n",
    "#Modifier les valeurs des séquences\n",
    "#============================================\n",
    "\n",
    "#Listes\n",
    "Noms[2]='Ait My Hachem'\n",
    "print(Noms)"
   ]
  },
  {
   "cell_type": "code",
   "execution_count": 20,
   "metadata": {},
   "outputs": [
    {
     "name": "stdout",
     "output_type": "stream",
     "text": [
      "['Rafya', 'Balhous']\n"
     ]
    }
   ],
   "source": [
    "#============================================\n",
    "#Slicing des séquences\n",
    "#============================================\n",
    "\n",
    "#Listes\n",
    "#Liste[début:fin:pas]\n",
    "\n",
    "Noms=['Rafya','Balhous','ElBaggari','Ouahbi','Horami']\n",
    "print(Noms[:2]) #Afficher les deux premiers elements"
   ]
  },
  {
   "cell_type": "code",
   "execution_count": 21,
   "metadata": {},
   "outputs": [
    {
     "name": "stdout",
     "output_type": "stream",
     "text": [
      "['ElBaggari', 'Ouahbi', 'Horami']\n"
     ]
    }
   ],
   "source": [
    "print(Noms[2:]) #Afficher le reste"
   ]
  },
  {
   "cell_type": "code",
   "execution_count": 22,
   "metadata": {},
   "outputs": [
    {
     "name": "stdout",
     "output_type": "stream",
     "text": [
      "['Rafya', 'ElBaggari', 'Horami']\n"
     ]
    }
   ],
   "source": [
    "print(Noms[::2]) #pas de 2"
   ]
  },
  {
   "cell_type": "code",
   "execution_count": 23,
   "metadata": {},
   "outputs": [
    {
     "name": "stdout",
     "output_type": "stream",
     "text": [
      "['Horami', 'Ouahbi', 'ElBaggari', 'Balhous', 'Rafya']\n"
     ]
    }
   ],
   "source": [
    "print(Noms[::-1]) #Inverser la séquence"
   ]
  },
  {
   "cell_type": "code",
   "execution_count": 25,
   "metadata": {},
   "outputs": [
    {
     "name": "stdout",
     "output_type": "stream",
     "text": [
      "['Rafya', 'Balhous', 'Ait My Hachem', 'Ouahbi', 'Horami']\n"
     ]
    }
   ],
   "source": [
    "print(Noms)"
   ]
  },
  {
   "cell_type": "code",
   "execution_count": 26,
   "metadata": {},
   "outputs": [
    {
     "name": "stdout",
     "output_type": "stream",
     "text": [
      "['Rafya', 'Balhous', 'Ait My Hachem', 'Ouahbi', 'Horami', 'ElBaggari']\n"
     ]
    }
   ],
   "source": [
    "#Append\n",
    "Noms.append('ElBaggari')\n",
    "print(Noms)"
   ]
  },
  {
   "cell_type": "code",
   "execution_count": 27,
   "metadata": {},
   "outputs": [
    {
     "name": "stdout",
     "output_type": "stream",
     "text": [
      "['Rafya', 'Kanane', 'Balhous', 'Ait My Hachem', 'Ouahbi', 'Horami', 'ElBaggari']\n"
     ]
    }
   ],
   "source": [
    "#insert\n",
    "Noms.insert(1,'Kanane')\n",
    "print(Noms)"
   ]
  },
  {
   "cell_type": "code",
   "execution_count": 30,
   "metadata": {},
   "outputs": [
    {
     "name": "stdout",
     "output_type": "stream",
     "text": [
      "['Rafya', 'Kanane', 'Balhous', 'Ait My Hachem', 'Ouahbi', 'Horami', 'ElBaggari', 'Eddibe', 'Laalaiji']\n"
     ]
    }
   ],
   "source": [
    "#extend\n",
    "Noms2=['Eddibe','Laalaiji']\n",
    "Noms.extend(Noms2)\n",
    "print(Noms)"
   ]
  },
  {
   "cell_type": "code",
   "execution_count": 31,
   "metadata": {},
   "outputs": [
    {
     "data": {
      "text/plain": [
       "9"
      ]
     },
     "execution_count": 31,
     "metadata": {},
     "output_type": "execute_result"
    }
   ],
   "source": [
    "len(Noms)"
   ]
  },
  {
   "cell_type": "code",
   "execution_count": 32,
   "metadata": {},
   "outputs": [
    {
     "name": "stdout",
     "output_type": "stream",
     "text": [
      "['Ait My Hachem', 'Balhous', 'Eddibe', 'ElBaggari', 'Horami', 'Kanane', 'Laalaiji', 'Ouahbi', 'Rafya']\n"
     ]
    }
   ],
   "source": [
    "Noms.sort() #Tri par ordre alphabétique\n",
    "print(Noms)"
   ]
  },
  {
   "cell_type": "code",
   "execution_count": 34,
   "metadata": {},
   "outputs": [
    {
     "name": "stdout",
     "output_type": "stream",
     "text": [
      "['Rafya', 'Ouahbi', 'Laalaiji', 'Kanane', 'Horami', 'ElBaggari', 'Eddibe', 'Balhous', 'Ait My Hachem']\n"
     ]
    }
   ],
   "source": [
    "Noms.sort(reverse=True) #Tri par ordre anti-alphabétique\n",
    "print(Noms)"
   ]
  },
  {
   "cell_type": "code",
   "execution_count": 35,
   "metadata": {},
   "outputs": [
    {
     "name": "stdout",
     "output_type": "stream",
     "text": [
      "[-6, 0, 18, 21, 88, 1000]\n"
     ]
    }
   ],
   "source": [
    "Liste_1=[21,18,88,0,-6,1000] #Du petit au plus grand\n",
    "Liste_1.sort()\n",
    "print(Liste_1)"
   ]
  },
  {
   "cell_type": "code",
   "execution_count": 36,
   "metadata": {},
   "outputs": [
    {
     "data": {
      "text/plain": [
       "1"
      ]
     },
     "execution_count": 36,
     "metadata": {},
     "output_type": "execute_result"
    }
   ],
   "source": [
    "Noms.count('Rafya')"
   ]
  },
  {
   "cell_type": "code",
   "execution_count": 37,
   "metadata": {},
   "outputs": [],
   "source": [
    "Noms.clear()\n"
   ]
  },
  {
   "cell_type": "code",
   "execution_count": 38,
   "metadata": {},
   "outputs": [
    {
     "name": "stdout",
     "output_type": "stream",
     "text": [
      "[]\n"
     ]
    }
   ],
   "source": [
    "print(Noms)"
   ]
  },
  {
   "cell_type": "code",
   "execution_count": 39,
   "metadata": {},
   "outputs": [],
   "source": [
    "dictionnaire_français_anglais={\n",
    "    \"données\" : \"data\",\n",
    "    \"intelligence artificielle \" : \"artificial intelligence\",\n",
    "    \"apprentissage automatique\" : \"machine learning\"\n",
    "}"
   ]
  },
  {
   "cell_type": "code",
   "execution_count": 41,
   "metadata": {},
   "outputs": [
    {
     "name": "stdout",
     "output_type": "stream",
     "text": [
      "{'RAFYA': '175S8', 'Balhous': '178Rh', 'Eddibe': '17te6'}\n"
     ]
    }
   ],
   "source": [
    "mot_de_passe={\n",
    "    'RAFYA': '175S8',\n",
    "    'Balhous':'178Rh',\n",
    "    'Eddibe':'17te6'\n",
    "}\n",
    "print(mot_de_passe)"
   ]
  },
  {
   "cell_type": "code",
   "execution_count": 43,
   "metadata": {},
   "outputs": [
    {
     "name": "stdout",
     "output_type": "stream",
     "text": [
      "{'RAFYA': '123', 'Balhous': '178', 'Eddibe': '180'}\n"
     ]
    }
   ],
   "source": [
    "inscription={\n",
    "    'RAFYA': '123',\n",
    "    'Balhous':'178',\n",
    "    'Eddibe':'180'\n",
    "}\n",
    "print(inscription)"
   ]
  },
  {
   "cell_type": "code",
   "execution_count": 44,
   "metadata": {},
   "outputs": [
    {
     "name": "stdout",
     "output_type": "stream",
     "text": [
      "{1: {'RAFYA': '123', 'Balhous': '178', 'Eddibe': '180'}, 2: {'RAFYA': '175S8', 'Balhous': '178Rh', 'Eddibe': '17te6'}}\n"
     ]
    }
   ],
   "source": [
    "étudiant={\n",
    "    1 : inscription,\n",
    "    2 : mot_de_passe\n",
    "}\n",
    "print(étudiant)"
   ]
  },
  {
   "cell_type": "code",
   "execution_count": 45,
   "metadata": {},
   "outputs": [
    {
     "data": {
      "text/plain": [
       "dict_values(['175S8', '178Rh', '17te6'])"
      ]
     },
     "execution_count": 45,
     "metadata": {},
     "output_type": "execute_result"
    }
   ],
   "source": [
    "mot_de_passe={'RAFYA': '175S8', 'Balhous': '178Rh', 'Eddibe': '17te6'}\n",
    "\n",
    "mot_de_passe.values()"
   ]
  },
  {
   "cell_type": "code",
   "execution_count": 46,
   "metadata": {},
   "outputs": [
    {
     "data": {
      "text/plain": [
       "dict_keys(['RAFYA', 'Balhous', 'Eddibe'])"
      ]
     },
     "execution_count": 46,
     "metadata": {},
     "output_type": "execute_result"
    }
   ],
   "source": [
    "mot_de_passe.keys()"
   ]
  },
  {
   "cell_type": "code",
   "execution_count": 47,
   "metadata": {},
   "outputs": [
    {
     "data": {
      "text/plain": [
       "3"
      ]
     },
     "execution_count": 47,
     "metadata": {},
     "output_type": "execute_result"
    }
   ],
   "source": [
    "len(mot_de_passe)"
   ]
  },
  {
   "cell_type": "code",
   "execution_count": 48,
   "metadata": {},
   "outputs": [
    {
     "data": {
      "text/plain": [
       "{'RAFYA': '175S8', 'Balhous': '178Rh', 'Eddibe': '17te6', 'Laqdour': '17At8'}"
      ]
     },
     "execution_count": 48,
     "metadata": {},
     "output_type": "execute_result"
    }
   ],
   "source": [
    "#Ajouter un élement au dictionnaire\n",
    "mot_de_passe['Laqdour']='17At8'\n",
    "mot_de_passe"
   ]
  },
  {
   "cell_type": "code",
   "execution_count": 50,
   "metadata": {},
   "outputs": [
    {
     "name": "stdout",
     "output_type": "stream",
     "text": [
      "None\n"
     ]
    }
   ],
   "source": [
    "nouveau=mot_de_passe.get('Ezzahar')\n",
    "print(nouveau)"
   ]
  },
  {
   "cell_type": "code",
   "execution_count": 51,
   "metadata": {},
   "outputs": [
    {
     "data": {
      "text/plain": [
       "'175S8'"
      ]
     },
     "execution_count": 51,
     "metadata": {},
     "output_type": "execute_result"
    }
   ],
   "source": [
    "mot_de_passe.get('RAFYA')"
   ]
  },
  {
   "cell_type": "code",
   "execution_count": 55,
   "metadata": {},
   "outputs": [
    {
     "data": {
      "text/plain": [
       "{'Aboulmawahib': 'no password',\n",
       " 'Laghzaoui': 'no password',\n",
       " 'Elghanmi': 'no password'}"
      ]
     },
     "execution_count": 55,
     "metadata": {},
     "output_type": "execute_result"
    }
   ],
   "source": [
    "LISTE=['Aboulmawahib','Laghzaoui','Elghanmi']\n",
    "mot_de_passe.fromkeys(LISTE,'no password')\n"
   ]
  },
  {
   "cell_type": "code",
   "execution_count": 56,
   "metadata": {},
   "outputs": [
    {
     "data": {
      "text/plain": [
       "{'Balhous': '178Rh', 'Eddibe': '17te6', 'Laqdour': '17At8'}"
      ]
     },
     "execution_count": 56,
     "metadata": {},
     "output_type": "execute_result"
    }
   ],
   "source": [
    "mot_de_passe.pop('RAFYA')\n",
    "mot_de_passe"
   ]
  },
  {
   "cell_type": "code",
   "execution_count": 57,
   "metadata": {},
   "outputs": [
    {
     "data": {
      "text/plain": [
       "2"
      ]
     },
     "execution_count": 57,
     "metadata": {},
     "output_type": "execute_result"
    }
   ],
   "source": [
    "x=-2\n",
    "abs(x)"
   ]
  },
  {
   "cell_type": "code",
   "execution_count": 58,
   "metadata": {},
   "outputs": [
    {
     "data": {
      "text/plain": [
       "50"
      ]
     },
     "execution_count": 58,
     "metadata": {},
     "output_type": "execute_result"
    }
   ],
   "source": [
    "liste=[1,-77,3,50,4.52]\n",
    "max(liste)\n"
   ]
  },
  {
   "cell_type": "code",
   "execution_count": 59,
   "metadata": {},
   "outputs": [
    {
     "data": {
      "text/plain": [
       "-77"
      ]
     },
     "execution_count": 59,
     "metadata": {},
     "output_type": "execute_result"
    }
   ],
   "source": [
    "min(liste)\n"
   ]
  },
  {
   "cell_type": "code",
   "execution_count": 60,
   "metadata": {},
   "outputs": [
    {
     "data": {
      "text/plain": [
       "5"
      ]
     },
     "execution_count": 60,
     "metadata": {},
     "output_type": "execute_result"
    }
   ],
   "source": [
    "len(liste)\n"
   ]
  },
  {
   "cell_type": "code",
   "execution_count": 61,
   "metadata": {},
   "outputs": [
    {
     "data": {
      "text/plain": [
       "-18.48"
      ]
     },
     "execution_count": 61,
     "metadata": {},
     "output_type": "execute_result"
    }
   ],
   "source": [
    "sum(liste)"
   ]
  },
  {
   "cell_type": "code",
   "execution_count": 62,
   "metadata": {},
   "outputs": [
    {
     "data": {
      "text/plain": [
       "int"
      ]
     },
     "execution_count": 62,
     "metadata": {},
     "output_type": "execute_result"
    }
   ],
   "source": [
    "x=10\n",
    "type(x)"
   ]
  },
  {
   "cell_type": "code",
   "execution_count": 63,
   "metadata": {},
   "outputs": [
    {
     "data": {
      "text/plain": [
       "str"
      ]
     },
     "execution_count": 63,
     "metadata": {},
     "output_type": "execute_result"
    }
   ],
   "source": [
    "#transformer un int en string\n",
    "x=str(x)\n",
    "type(x)"
   ]
  },
  {
   "cell_type": "code",
   "execution_count": 64,
   "metadata": {},
   "outputs": [
    {
     "data": {
      "text/plain": [
       "float"
      ]
     },
     "execution_count": 64,
     "metadata": {},
     "output_type": "execute_result"
    }
   ],
   "source": [
    "#transformer un string en float\n",
    "x=float(x)\n",
    "type(x)"
   ]
  },
  {
   "cell_type": "code",
   "execution_count": 65,
   "metadata": {},
   "outputs": [
    {
     "data": {
      "text/plain": [
       "(12, 47, 5, 0)"
      ]
     },
     "execution_count": 65,
     "metadata": {},
     "output_type": "execute_result"
    }
   ],
   "source": [
    "liste_1=[12,47,5,0]\n",
    "#transformer une liste en tuple\n",
    "tuple_1=tuple(liste_1)\n",
    "tuple_1"
   ]
  },
  {
   "cell_type": "code",
   "execution_count": 66,
   "metadata": {},
   "outputs": [
    {
     "name": "stdout",
     "output_type": "stream",
     "text": [
      "Entrer un nombre:5\n"
     ]
    }
   ],
   "source": [
    "x= input(\"Entrer un nombre:\")"
   ]
  },
  {
   "cell_type": "code",
   "execution_count": 67,
   "metadata": {},
   "outputs": [
    {
     "data": {
      "text/plain": [
       "str"
      ]
     },
     "execution_count": 67,
     "metadata": {},
     "output_type": "execute_result"
    }
   ],
   "source": [
    "type(x)\n",
    "#Donc on ne peut pas faire du calcul avec"
   ]
  },
  {
   "cell_type": "code",
   "execution_count": 70,
   "metadata": {},
   "outputs": [
    {
     "data": {
      "text/plain": [
       "int"
      ]
     },
     "execution_count": 70,
     "metadata": {},
     "output_type": "execute_result"
    }
   ],
   "source": [
    "#Il faut la transformer en int\n",
    "x=int(x)\n",
    "type(x)"
   ]
  },
  {
   "cell_type": "code",
   "execution_count": null,
   "metadata": {},
   "outputs": [],
   "source": []
  }
 ],
 "metadata": {
  "kernelspec": {
   "display_name": "Python 3",
   "language": "python",
   "name": "python3"
  },
  "language_info": {
   "codemirror_mode": {
    "name": "ipython",
    "version": 3
   },
   "file_extension": ".py",
   "mimetype": "text/x-python",
   "name": "python",
   "nbconvert_exporter": "python",
   "pygments_lexer": "ipython3",
   "version": "3.8.5"
  }
 },
 "nbformat": 4,
 "nbformat_minor": 4
}
