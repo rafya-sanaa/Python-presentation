{
 "cells": [
  {
   "cell_type": "code",
   "execution_count": 2,
   "metadata": {},
   "outputs": [],
   "source": [
    "import numpy as np\n",
    "import scipy as sp\n",
    "import matplotlib as mpl\n"
   ]
  },
  {
   "cell_type": "code",
   "execution_count": 6,
   "metadata": {},
   "outputs": [
    {
     "name": "stdout",
     "output_type": "stream",
     "text": [
      "0\n",
      "1\n",
      "2\n"
     ]
    }
   ],
   "source": [
    "#importer la fonction compteur() du module projet1\n",
    "from projet1 import compteur3 \n",
    "compteur3()"
   ]
  },
  {
   "cell_type": "code",
   "execution_count": 11,
   "metadata": {},
   "outputs": [
    {
     "name": "stdout",
     "output_type": "stream",
     "text": [
      "0\n",
      "1\n",
      "2\n",
      "--------\n",
      "1 * 2 = 2\n",
      "2 * 2 = 4\n",
      "3 * 2 = 6\n",
      "4 * 2 = 8\n",
      "5 * 2 = 10\n"
     ]
    }
   ],
   "source": [
    "#importer toutes les fonctions d'un module\n",
    "from projet1 import *\n",
    "compteur3() #fonction 1\n",
    "print(\"--------\")\n",
    "table(2,5) #fonction 2"
   ]
  },
  {
   "cell_type": "code",
   "execution_count": 17,
   "metadata": {},
   "outputs": [],
   "source": [
    "#importer tkinter utile pour créer des interfaces graphiques\n",
    "from tkinter import *\n",
    "\n",
    "window = Tk() #Créer une première fenêtre\n",
    "window.mainloop() #Afficher la fenêtre\n"
   ]
  },
  {
   "cell_type": "code",
   "execution_count": 36,
   "metadata": {},
   "outputs": [
    {
     "name": "stdout",
     "output_type": "stream",
     "text": [
      "['Ouahbi Hatim' 'Yassine Zaiouane' 'Zakaria ez-zahar' 'Souaad Balhouss']\n",
      "dimension= 1\n",
      "forme= (5,)\n"
     ]
    }
   ],
   "source": [
    "import numpy as np #importer numpy\n",
    "#créer un tableau à l'aide du constructeur array\n",
    "Noms=np.array([\"Ouahbi Hatim\",\"Yassine Zaiouane\",\"Zakaria ez-zahar\",\"Souaad Balhouss\"])\n",
    "print(Noms)#afficher le tableau\n",
    "print(\"dimension=\",tableau.ndim) #afficher la dimension du tableau\n",
    "print(\"forme=\",tableau.shape) #afficher la forme du tableau\n"
   ]
  },
  {
   "cell_type": "code",
   "execution_count": 39,
   "metadata": {},
   "outputs": [
    {
     "data": {
      "text/plain": [
       "tuple"
      ]
     },
     "execution_count": 39,
     "metadata": {},
     "output_type": "execute_result"
    }
   ],
   "source": [
    "#tableau rempli de 0 à 2 lignes et 3 colonnes\n",
    "tableau=np.zeros((2,3))\n",
    "type(tableau.shape)"
   ]
  },
  {
   "cell_type": "code",
   "execution_count": 43,
   "metadata": {},
   "outputs": [
    {
     "name": "stdout",
     "output_type": "stream",
     "text": [
      "[[1. 1. 1.]\n",
      " [1. 1. 1.]]\n",
      "size of the array is: 6\n"
     ]
    }
   ],
   "source": [
    "#tableau rempli de 0 à 2 lignes et 3 colonnes\n",
    "tableau=np.ones((2,3))\n",
    "print(tableau)\n",
    "print(\"size of the array is:\",tableau.size) #lignes*colonnes"
   ]
  },
  {
   "cell_type": "code",
   "execution_count": 47,
   "metadata": {},
   "outputs": [
    {
     "data": {
      "text/plain": [
       "array([[2, 7, 7],\n",
       "       [3, 3, 6]])"
      ]
     },
     "execution_count": 47,
     "metadata": {},
     "output_type": "execute_result"
    }
   ],
   "source": [
    "Aleatoire = np.random.randint(0, 10, [2, 3]) # tableau d'entiers aléatoires de 0 a 10 et de dimension 2x3\n",
    "Aleatoire"
   ]
  },
  {
   "cell_type": "code",
   "execution_count": 51,
   "metadata": {},
   "outputs": [
    {
     "data": {
      "text/plain": [
       "array([0. , 0.5, 1. , 1.5, 2. , 2.5, 3. , 3.5, 4. , 4.5, 5. , 5.5, 6. ,\n",
       "       6.5, 7. , 7.5, 8. , 8.5, 9. , 9.5])"
      ]
     },
     "execution_count": 51,
     "metadata": {},
     "output_type": "execute_result"
    }
   ],
   "source": [
    "tableau1=np.arange(0,10,0.5) #parcourir [0,10] par pas de 0.5\n",
    "tableau1"
   ]
  },
  {
   "cell_type": "code",
   "execution_count": null,
   "metadata": {},
   "outputs": [],
   "source": []
  }
 ],
 "metadata": {
  "kernelspec": {
   "display_name": "Python 3",
   "language": "python",
   "name": "python3"
  },
  "language_info": {
   "codemirror_mode": {
    "name": "ipython",
    "version": 3
   },
   "file_extension": ".py",
   "mimetype": "text/x-python",
   "name": "python",
   "nbconvert_exporter": "python",
   "pygments_lexer": "ipython3",
   "version": "3.8.5"
  }
 },
 "nbformat": 4,
 "nbformat_minor": 4
}
