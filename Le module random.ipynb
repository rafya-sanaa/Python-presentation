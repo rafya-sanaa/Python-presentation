{
 "cells": [
  {
   "cell_type": "code",
   "execution_count": 9,
   "metadata": {},
   "outputs": [
    {
     "data": {
      "text/plain": [
       "'Souaad Balhouss'"
      ]
     },
     "execution_count": 9,
     "metadata": {},
     "output_type": "execute_result"
    }
   ],
   "source": [
    "import random\n",
    "\n",
    "Noms=[\"Ahmed Elghanmi\", \n",
    "\"Ayoub Louja\",\n",
    "\"Soufiane kanane\",\n",
    "\"Aicha Al horami\",\n",
    "\"youssra abouelmawahib\",\n",
    "\"Dounia el baggari\",\n",
    "\"Laghzaoui Brahim\",\n",
    "\"yassine el anssari\",\n",
    "\"Ouahbi Hatim\",\n",
    "\"Yassine Zaiouane\",\n",
    "\"Zakaria ez-zahar\",\n",
    "\"Souaad Balhouss\",\n",
    "\"Khadija ait my hachem\",\n",
    "\"Abyade Khadija\",\n",
    "\"DDIB Soukaina\",\n",
    "\"Abdelghani laqdour\",\n",
    "\"Assia laalaiji\",\n",
    "\"Yameogo Henriette Carine\",\"RAFYA SANAA\"\n",
    "\"Hanae baraka\",\n",
    "]\n",
    "\n",
    "random.choice(Noms) \n",
    "#Tirer par hasard un nom pour être le délégué"
   ]
  },
  {
   "cell_type": "code",
   "execution_count": 12,
   "metadata": {},
   "outputs": [
    {
     "name": "stdout",
     "output_type": "stream",
     "text": [
      "0.255475824667605\n",
      "10\n",
      "47\n"
     ]
    }
   ],
   "source": [
    "#Génerer un nombre au hasard\n",
    "\n",
    "print(random.random())#génerer un float\n",
    "print(random.randint(0,10)) #génerer un entier entre 0 et 10\n",
    "print(random.randrange(100)) #génerer un entier entre 0 et 100"
   ]
  },
  {
   "cell_type": "code",
   "execution_count": 13,
   "metadata": {},
   "outputs": [],
   "source": [
    "import numpy as np\n",
    "\n",
    "tableau=np.array([\"RAFYA\",\"Hanae baraka\",\"Yameogo Henriette Carine\" ])\n"
   ]
  },
  {
   "cell_type": "code",
   "execution_count": null,
   "metadata": {},
   "outputs": [],
   "source": [
    "h"
   ]
  }
 ],
 "metadata": {
  "kernelspec": {
   "display_name": "Python 3",
   "language": "python",
   "name": "python3"
  },
  "language_info": {
   "codemirror_mode": {
    "name": "ipython",
    "version": 3
   },
   "file_extension": ".py",
   "mimetype": "text/x-python",
   "name": "python",
   "nbconvert_exporter": "python",
   "pygments_lexer": "ipython3",
   "version": "3.8.5"
  }
 },
 "nbformat": 4,
 "nbformat_minor": 4
}
